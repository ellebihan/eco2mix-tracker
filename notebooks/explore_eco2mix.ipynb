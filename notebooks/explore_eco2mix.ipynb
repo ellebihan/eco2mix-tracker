{
 "cells": [
  {
   "cell_type": "code",
   "execution_count": null,
   "id": "dd2c6359",
   "metadata": {
    "vscode": {
     "languageId": "plaintext"
    }
   },
   "outputs": [],
   "source": [
    "import requests\n",
    "\n",
    "headers = {\n",
    "    \"Accept\": \"application/json\",\n",
    "    \"x-api-key\": \"TON_API_KEY_ICI\"\n",
    "}\n",
    "\n",
    "url = \"https://digital.iservices.rte-france.com/open_api/eco2mix-national-tr/raw\"\n",
    "\n",
    "params = {\n",
    "    \"start_date\": \"2025-07-05T00:00:00Z\",\n",
    "    \"end_date\": \"2025-07-06T00:00:00Z\"\n",
    "}\n",
    "\n",
    "response = requests.get(url, headers=headers, params=params)\n",
    "\n",
    "data = response.json()\n",
    "print(data)\n"
   ]
  }
 ],
 "metadata": {
  "language_info": {
   "name": "python"
  }
 },
 "nbformat": 4,
 "nbformat_minor": 5
}
